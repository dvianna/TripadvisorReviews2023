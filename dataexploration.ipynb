{
 "cells": [
  {
   "cell_type": "code",
   "execution_count": 36,
   "id": "cb7f42e9",
   "metadata": {},
   "outputs": [],
   "source": [
    "import pandas as pd\n",
    "import matplotlib.pyplot as plt"
   ]
  },
  {
   "cell_type": "code",
   "execution_count": 30,
   "id": "f7cc6aa9",
   "metadata": {},
   "outputs": [],
   "source": [
    "%matplotlib inline"
   ]
  },
  {
   "cell_type": "code",
   "execution_count": 44,
   "id": "e9469b4e",
   "metadata": {},
   "outputs": [],
   "source": [
    "pd.set_option('display.max_rows', None)\n",
    "pd.set_option('display.max_columns', None)\n",
    "pd.set_option('display.width', None)\n",
    "pd.set_option('display.max_colwidth', None)"
   ]
  },
  {
   "cell_type": "markdown",
   "id": "5e39f4a2",
   "metadata": {},
   "source": [
    "Dataset: Kaggle - Tripadvisor Reviews 2023\n",
    "\n",
    "https://www.kaggle.com/datasets/arnabchaki/tripadvisor-reviews-2023"
   ]
  },
  {
   "cell_type": "code",
   "execution_count": 37,
   "id": "44a799d8",
   "metadata": {},
   "outputs": [],
   "source": [
    "df = pd.read_csv('New_Delhi_reviews.csv')"
   ]
  },
  {
   "cell_type": "code",
   "execution_count": 38,
   "id": "0083fffa",
   "metadata": {},
   "outputs": [
    {
     "data": {
      "text/plain": [
       "Index(['rating_review', 'review_full'], dtype='object')"
      ]
     },
     "execution_count": 38,
     "metadata": {},
     "output_type": "execute_result"
    }
   ],
   "source": [
    "df.columns"
   ]
  },
  {
   "cell_type": "code",
   "execution_count": 43,
   "id": "26be21e8",
   "metadata": {},
   "outputs": [
    {
     "data": {
      "text/plain": [
       "(147581, 2)"
      ]
     },
     "execution_count": 43,
     "metadata": {},
     "output_type": "execute_result"
    }
   ],
   "source": [
    "df.shape"
   ]
  },
  {
   "cell_type": "code",
   "execution_count": 56,
   "id": "ca1664a6",
   "metadata": {},
   "outputs": [
    {
     "data": {
      "text/plain": [
       "5    72390\n",
       "4    50248\n",
       "3    15936\n",
       "2     4552\n",
       "1     4455\n",
       "Name: rating_review, dtype: int64"
      ]
     },
     "execution_count": 56,
     "metadata": {},
     "output_type": "execute_result"
    }
   ],
   "source": [
    "df['rating_review'].value_counts()"
   ]
  },
  {
   "cell_type": "code",
   "execution_count": 40,
   "id": "949332ef",
   "metadata": {},
   "outputs": [
    {
     "data": {
      "text/plain": [
       "<AxesSubplot:ylabel='rating_review'>"
      ]
     },
     "execution_count": 40,
     "metadata": {},
     "output_type": "execute_result"
    },
    {
     "data": {
      "image/png": "[encoded data removed]",
      "text/plain": [
       "<Figure size 640x480 with 1 Axes>"
      ]
     },
     "metadata": {},
     "output_type": "display_data"
    }
   ],
   "source": [
    "df['rating_review'].value_counts().plot(kind='pie')"
   ]
  },
  {
   "cell_type": "code",
   "execution_count": 51,
   "id": "4e2bd62a",
   "metadata": {},
   "outputs": [
    {
     "data": {
      "text/plain": [
       "array([1,\n",
       "       'The service was OK and the food seemed good. Except that my wife ate scallops and got a gastroenteritis.'],\n",
       "      dtype=object)"
      ]
     },
     "execution_count": 51,
     "metadata": {},
     "output_type": "execute_result"
    }
   ],
   "source": [
    "# sample of a review with rating 1\n",
    "df[df['rating_review'] == 1].values[0]"
   ]
  },
  {
   "cell_type": "code",
   "execution_count": 52,
   "id": "24b3f98c",
   "metadata": {},
   "outputs": [
    {
     "data": {
      "text/plain": [
       "array([2,\n",
       "       \"Service is decent, atmosphere is decent with a good vibe with and DJ. The food I had was really poor. The tom kha soup was literally thick like cream and didn't taste like coconut. I was literally almost sickened by the texture. I put some water in it to thin it out, had a few bites and had to stop eating it. Almost flavorless as well. I wonder if it was the bottom of their soup container or something? Or what happened? OMG that was yucky....I'd eat somewhere else.\"],\n",
       "      dtype=object)"
      ]
     },
     "execution_count": 52,
     "metadata": {},
     "output_type": "execute_result"
    }
   ],
   "source": [
    "# sample of a review with rating 2\n",
    "df[df['rating_review'] == 2].values[0]"
   ]
  },
  {
   "cell_type": "code",
   "execution_count": 53,
   "id": "d6e08a49",
   "metadata": {},
   "outputs": [
    {
     "data": {
      "text/plain": [
       "array([3,\n",
       "       'Having read the reviews on trip advisor we decided to stay in the hotel on our last night in Delhi.the meal was good but certainly not outstanding. We ordered our meals the starter was enjoyable but when the main courses arrived mine was wrong. This can happen almost anywhere I guess. They took my meal away leaving the rice to go cold and my partner to eat hers. I would expect in a restaurant claiming to be of a better standard to at least take the other dishes away to be kept warm while my correct meal was cooked. Background music was also too loud and did not make a relaxing atmosphere.'],\n",
       "      dtype=object)"
      ]
     },
     "execution_count": 53,
     "metadata": {},
     "output_type": "execute_result"
    }
   ],
   "source": [
    "# sample of a review with rating 3\n",
    "df[df['rating_review'] == 3].values[0]"
   ]
  },
  {
   "cell_type": "code",
   "execution_count": 54,
   "id": "17bc26bb",
   "metadata": {},
   "outputs": [
    {
     "data": {
      "text/plain": [
       "array([4,\n",
       "       'We had drinks during happy hour, good selection & excellent service at the bar. We didn’t eat but the food looked really good. '],\n",
       "      dtype=object)"
      ]
     },
     "execution_count": 54,
     "metadata": {},
     "output_type": "execute_result"
    }
   ],
   "source": [
    "# sample of a review with rating 3\n",
    "df[df['rating_review'] == 4].values[0]"
   ]
  },
  {
   "cell_type": "code",
   "execution_count": 55,
   "id": "f0401333",
   "metadata": {},
   "outputs": [
    {
     "data": {
      "text/plain": [
       "array([5,\n",
       "       \"Totally in love with the Auro of the place, really beautiful and quite fancy at the same time. The ambience is very pure and gives a sense of positivity throughout. Outdoor and indoor interior are quite quaint and cute. Love the open kitchen idea and there whole marketplace ideology. Due to coronovirus they specifically use disposable cutlery to keep the pandemic in mind taking all the precautionary measures from the beginning of the place with the mask on their staff and using good sanitisation. The food is really amazing specially the pizza straight from the oven and the hummus and pita bread are quite delicious too. If you're looking for a classy yet soothing Italian place in Delhi,Fatjar is a go to for you!\"],\n",
       "      dtype=object)"
      ]
     },
     "execution_count": 55,
     "metadata": {},
     "output_type": "execute_result"
    }
   ],
   "source": [
    "# sample of a review with rating 3\n",
    "df[df['rating_review'] == 5].values[0]"
   ]
  },
  {
   "cell_type": "code",
   "execution_count": null,
   "id": "933f23d3",
   "metadata": {},
   "outputs": [],
   "source": []
  }
 ],
 "metadata": {
  "kernelspec": {
   "display_name": "Python 3 (ipykernel)",
   "language": "python",
   "name": "python3"
  },
  "language_info": {
   "codemirror_mode": {
    "name": "ipython",
    "version": 3
   },
   "file_extension": ".py",
   "mimetype": "text/x-python",
   "name": "python",
   "nbconvert_exporter": "python",
   "pygments_lexer": "ipython3",
   "version": "3.9.13"
  }
 },
 "nbformat": 4,
 "nbformat_minor": 5
}
